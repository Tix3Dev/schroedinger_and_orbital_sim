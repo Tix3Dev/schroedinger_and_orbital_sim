version https://git-lfs.github.com/spec/v1
oid sha256:f6d573d5933a71baa827ffa9fb000b5315c38b0816b183d224fdddf0c0ea47fd
size 199122169
