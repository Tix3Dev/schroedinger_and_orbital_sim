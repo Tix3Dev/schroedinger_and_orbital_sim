version https://git-lfs.github.com/spec/v1
oid sha256:2790f0d1a60ef6493f4c43de1e9d5512658a4bec394695670d1b2f24c2a8ecbb
size 77910169
